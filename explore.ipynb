{
 "cells": [
  {
   "cell_type": "code",
   "execution_count": 2,
   "metadata": {},
   "outputs": [],
   "source": [
    "import pandas as pd\n",
    "import os"
   ]
  },
  {
   "cell_type": "code",
   "execution_count": 12,
   "metadata": {},
   "outputs": [
    {
     "name": "stdout",
     "output_type": "stream",
     "text": [
      "flow_distance\n",
      "mean_speed_by_lane\n",
      "simultaneous_buses\n"
     ]
    }
   ],
   "source": [
    "score_files = []\n",
    "score_df = None\n",
    "for approach in os.listdir('./electric-bus/approachs/'):\n",
    "    if not approach.endswith('.py'):\n",
    "        continue\n",
    "    approach = approach[:-3]\n",
    "    print(approach)\n",
    "    if score_df is None:\n",
    "        score_df = pd.read_csv(f'./eletric_bus/outputs/{approach}/scoreOutput.csv', sep=';')\n",
    "        score_df.rename(columns={'score': approach}, inplace=True)\n",
    "    else:\n",
    "        approach_score = pd.read_csv(f'./eletric_bus/outputs/{approach}/scoreOutput.csv', sep=';')\n",
    "        score_df[approach] = approach_score['score']"
   ]
  },
  {
   "cell_type": "code",
   "execution_count": 13,
   "metadata": {},
   "outputs": [
    {
     "data": {
      "text/html": [
       "<div>\n",
       "<style scoped>\n",
       "    .dataframe tbody tr th:only-of-type {\n",
       "        vertical-align: middle;\n",
       "    }\n",
       "\n",
       "    .dataframe tbody tr th {\n",
       "        vertical-align: top;\n",
       "    }\n",
       "\n",
       "    .dataframe thead th {\n",
       "        text-align: right;\n",
       "    }\n",
       "</style>\n",
       "<table border=\"1\" class=\"dataframe\">\n",
       "  <thead>\n",
       "    <tr style=\"text-align: right;\">\n",
       "      <th></th>\n",
       "      <th>flow_id</th>\n",
       "      <th>flow_distance</th>\n",
       "      <th>mean_speed_by_lane</th>\n",
       "      <th>simultaneous_buses</th>\n",
       "    </tr>\n",
       "  </thead>\n",
       "  <tbody>\n",
       "    <tr>\n",
       "      <th>0</th>\n",
       "      <td>20</td>\n",
       "      <td>308646.275674</td>\n",
       "      <td>-3.938237</td>\n",
       "      <td>35.073654</td>\n",
       "    </tr>\n",
       "    <tr>\n",
       "      <th>1</th>\n",
       "      <td>70</td>\n",
       "      <td>258849.034672</td>\n",
       "      <td>-4.278160</td>\n",
       "      <td>32.715988</td>\n",
       "    </tr>\n",
       "    <tr>\n",
       "      <th>2</th>\n",
       "      <td>70R</td>\n",
       "      <td>198424.869178</td>\n",
       "      <td>-4.710121</td>\n",
       "      <td>32.686469</td>\n",
       "    </tr>\n",
       "    <tr>\n",
       "      <th>3</th>\n",
       "      <td>11R_frequency1</td>\n",
       "      <td>193144.924308</td>\n",
       "      <td>-4.730849</td>\n",
       "      <td>32.196762</td>\n",
       "    </tr>\n",
       "    <tr>\n",
       "      <th>4</th>\n",
       "      <td>10R_frequency1</td>\n",
       "      <td>190389.766956</td>\n",
       "      <td>-4.868335</td>\n",
       "      <td>31.882252</td>\n",
       "    </tr>\n",
       "    <tr>\n",
       "      <th>...</th>\n",
       "      <td>...</td>\n",
       "      <td>...</td>\n",
       "      <td>...</td>\n",
       "      <td>...</td>\n",
       "    </tr>\n",
       "    <tr>\n",
       "      <th>105</th>\n",
       "      <td>9221_frequency1</td>\n",
       "      <td>4.663668</td>\n",
       "      <td>-7.898378</td>\n",
       "      <td>5.106654</td>\n",
       "    </tr>\n",
       "    <tr>\n",
       "      <th>106</th>\n",
       "      <td>X12R_frequency2</td>\n",
       "      <td>3.871563</td>\n",
       "      <td>-7.954153</td>\n",
       "      <td>2.688076</td>\n",
       "    </tr>\n",
       "    <tr>\n",
       "      <th>107</th>\n",
       "      <td>53R_frequency1</td>\n",
       "      <td>3.830590</td>\n",
       "      <td>-8.037535</td>\n",
       "      <td>2.384642</td>\n",
       "    </tr>\n",
       "    <tr>\n",
       "      <th>108</th>\n",
       "      <td>15_frequency6</td>\n",
       "      <td>2.601923</td>\n",
       "      <td>-8.140671</td>\n",
       "      <td>1.145427</td>\n",
       "    </tr>\n",
       "    <tr>\n",
       "      <th>109</th>\n",
       "      <td>X80_frequency3</td>\n",
       "      <td>NaN</td>\n",
       "      <td>NaN</td>\n",
       "      <td>NaN</td>\n",
       "    </tr>\n",
       "  </tbody>\n",
       "</table>\n",
       "<p>110 rows × 4 columns</p>\n",
       "</div>"
      ],
      "text/plain": [
       "             flow_id  flow_distance  mean_speed_by_lane  simultaneous_buses\n",
       "0                 20  308646.275674           -3.938237           35.073654\n",
       "1                 70  258849.034672           -4.278160           32.715988\n",
       "2                70R  198424.869178           -4.710121           32.686469\n",
       "3     11R_frequency1  193144.924308           -4.730849           32.196762\n",
       "4     10R_frequency1  190389.766956           -4.868335           31.882252\n",
       "..               ...            ...                 ...                 ...\n",
       "105  9221_frequency1       4.663668           -7.898378            5.106654\n",
       "106  X12R_frequency2       3.871563           -7.954153            2.688076\n",
       "107   53R_frequency1       3.830590           -8.037535            2.384642\n",
       "108    15_frequency6       2.601923           -8.140671            1.145427\n",
       "109   X80_frequency3            NaN                 NaN                 NaN\n",
       "\n",
       "[110 rows x 4 columns]"
      ]
     },
     "execution_count": 13,
     "metadata": {},
     "output_type": "execute_result"
    }
   ],
   "source": [
    "score_df"
   ]
  },
  {
   "cell_type": "code",
   "execution_count": 3,
   "metadata": {},
   "outputs": [],
   "source": [
    "ex_emssion_df = pd.read_csv('./electric-bus/outputs/default/simulation_1.emission.csv')\n",
    "flows = pd.read_csv('./electric-bus/outputs/default/')"
   ]
  },
  {
   "cell_type": "code",
   "execution_count": null,
   "metadata": {},
   "outputs": [],
   "source": []
  }
 ],
 "metadata": {
  "kernelspec": {
   "display_name": "eletric_bus",
   "language": "python",
   "name": "python3"
  },
  "language_info": {
   "codemirror_mode": {
    "name": "ipython",
    "version": 3
   },
   "file_extension": ".py",
   "mimetype": "text/x-python",
   "name": "python",
   "nbconvert_exporter": "python",
   "pygments_lexer": "ipython3",
   "version": "3.7.16"
  }
 },
 "nbformat": 4,
 "nbformat_minor": 2
}
